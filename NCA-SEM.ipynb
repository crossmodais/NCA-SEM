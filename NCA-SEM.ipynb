{
  "nbformat": 4,
  "nbformat_minor": 0,
  "metadata": {
    "colab": {
      "provenance": [],
      "gpuType": "T4"
    },
    "kernelspec": {
      "name": "ir",
      "display_name": "R"
    },
    "language_info": {
      "name": "R"
    },
    "accelerator": "GPU"
  },
  "cells": [
    {
      "cell_type": "code",
      "source": [
        "# Carregar a biblioteca googledrive\n",
        "library(googledrive)\n",
        "\n",
        "# Autenticar no Google Drive (se necessário)\n",
        "# drive_auth() # Descomente esta linha se você ainda não estiver autenticado\n",
        "\n",
        "# ID do arquivo no Google Drive\n",
        "file_id <- \"https://drive.google.com/file/d/1Efop2rCqtf-M9QJHcVCLoPaYR9nxA-xo/view?usp=sharing\" # Substitua pelo ID real do seu arquivo\n",
        "\n",
        "# Baixar o arquivo do Google Drive\n",
        "downloaded_file_path <- drive_download(\n",
        "  as_id(file_id), # Usa o ID do arquivo para baixar\n",
        "  path = \"read.csv\", # Nome do arquivo local (opcional, padrão é o nome original)\n",
        "  overwrite = TRUE, # Sobrescreve o arquivo local se já existir\n",
        "  verbose = FALSE # Suprime a mensagem de download\n",
        ")\n",
        "\n",
        "# Ler o arquivo usando o caminho completo\n",
        "data <- read.csv(downloaded_file_path$local_path)"
      ],
      "metadata": {
        "id": "7hnu7_gLmGet"
      },
      "execution_count": 14,
      "outputs": []
    },
    {
      "cell_type": "code",
      "execution_count": 38,
      "metadata": {
        "colab": {
          "base_uri": "https://localhost:8080/"
        },
        "id": "s4KCYG3LhGvz",
        "outputId": "6e70c6ca-bced-4009-bf6e-29bbbd477570"
      },
      "outputs": [
        {
          "output_type": "stream",
          "name": "stderr",
          "text": [
            "Aviso durante a compilação do modelo: lavaan->lav_lavaan_step11_estoptim():  \n",
            "   Model estimation FAILED! Returning starting values.\n",
            "\n",
            "A análise NCA não pode ser realizada porque o modelo SEM não foi compilado com sucesso.\n",
            "\n"
          ]
        }
      ],
      "source": [
        "# Carregar bibliotecas necessárias\n",
        "if (!require(\"matrixcalc\")) install.packages(\"matrixcalc\")\n",
        "library(lavaan)\n",
        "library(NCA)\n",
        "library(tidyr)\n",
        "library(dplyr)\n",
        "library(matrixcalc)\n",
        "\n",
        "# Função para definir a especificação do modelo SEM\n",
        "define_model_specification <- function() {\n",
        "  '\n",
        "    Motivation =~ Mot1 + Mot2 + Mot3\n",
        "    Performance =~ Des1 + Des2 + Des3\n",
        "    Performance ~ Motivation\n",
        "  '\n",
        "}\n",
        "\n",
        "# Função para verificar e ajustar a matriz de covariância\n",
        "check_and_adjust_covariance <- function(data) {\n",
        "  cov_matrix <- cov(data)\n",
        "  if (is.singular.matrix(cov_matrix)) {\n",
        "    # Aplicar regularização se a matriz for singular\n",
        "    cov_matrix <- cov_matrix + diag(nrow(cov_matrix)) * 1e-5\n",
        "  }\n",
        "  cov_matrix\n",
        "}\n",
        "\n",
        "# Função para compilar o modelo SEM\n",
        "compile_model <- function(model_specification, data) {\n",
        "  observed_vars <- c(\"Mot1\", \"Mot2\", \"Mot3\", \"Des1\", \"Des2\", \"Des3\")\n",
        "  missing_vars <- observed_vars[!observed_vars %in% names(data)]\n",
        "  if (length(missing_vars) > 0) {\n",
        "    stop(\"Variáveis observadas ausentes no conjunto de dados: \",\n",
        "         paste(missing_vars, collapse = \", \"))\n",
        "  }\n",
        "\n",
        "  cov_matrix <- check_and_adjust_covariance(data)\n",
        "\n",
        "  # Capturar aviso da função sem()\n",
        "  compiled_model <- tryCatch({\n",
        "    lavaan::sem(model_specification, sample.cov = cov_matrix, sample.nobs = nrow(data))\n",
        "  }, warning = function(w) {\n",
        "    message(\"Aviso durante a compilação do modelo: \", w$message)\n",
        "    return(NULL) # Retornar NULL se houver aviso\n",
        "  })\n",
        "\n",
        "  compiled_model\n",
        "}\n",
        "\n",
        "# Função para realizar NCA e resumir os resultados\n",
        "perform_nca <- function(compiled_model, nca_type, nca_variables) {\n",
        "  if (!is.null(compiled_model)) { # Verificar se o modelo foi compilado com sucesso\n",
        "    NCA::nca(compiled_model, nca_type, nca_variables) %>% summary() %>% print()\n",
        "  } else {\n",
        "    message(\"A análise NCA não pode ser realizada porque o modelo SEM não foi compilado com sucesso.\")\n",
        "  }\n",
        "}\n",
        "\n",
        "# Ler o arquivo CSV\n",
        "data <- read.csv(\"read.csv\")\n",
        "\n",
        "# Separar a coluna única em várias colunas e converter para numérico\n",
        "data <- data %>%\n",
        "  separate(col = \"Mot1.Mot2.Mot3.Des1.Des2.Des3\",\n",
        "           into = c(\"Mot1\", \"Mot2\", \"Mot3\", \"Des1\", \"Des2\", \"Des3\"),\n",
        "           sep = \";\") %>%\n",
        "  mutate(across(everything(), as.numeric))\n",
        "\n",
        "# Executar a análise NCA-SEM\n",
        "model_spec <- define_model_specification()\n",
        "compiled_model <- compile_model(model_spec, data)\n",
        "perform_nca(compiled_model, \"necessity\", c(\"Motivation\", \"Performance\"))"
      ]
    }
  ]
}